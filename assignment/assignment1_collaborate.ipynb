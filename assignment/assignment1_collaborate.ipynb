{
 "cells": [
  {
   "cell_type": "markdown",
   "metadata": {},
   "source": [
    "# CPSC 533R Visual AI - Assignment 1"
   ]
  },
  {
   "cell_type": "code",
   "execution_count": 1,
   "metadata": {},
   "outputs": [],
   "source": [
    "# import standard PyTorch modules\n",
    "import torch\n",
    "import torch.nn as nn\n",
    "import torch.optim as optim\n",
    "\n",
    "# import torchvision module to handle image manipulation\n",
    "import torchvision\n",
    "import torchvision.transforms as transforms\n",
    "import matplotlib.pyplot as plt"
   ]
  },
  {
   "cell_type": "code",
   "execution_count": 11,
   "metadata": {},
   "outputs": [],
   "source": [
    "# Use standard FashionMNIST dataset\n",
    "def gray_to_color(x):\n",
    "    return x.repeat(3, 1, 1)\n",
    "\n",
    "#train_set = torchvision.datasets.FashionMNIST(\n",
    "train_set = torchvision.datasets.MNIST(\n",
    "    root = './DatasetMNIST',\n",
    "    train = True,\n",
    "    download = False,\n",
    "    transform = transforms.Compose([\n",
    "        transforms.ToTensor(),\n",
    "        gray_to_color,\n",
    "    ])\n",
    ")\n",
    "loader = torch.utils.data.DataLoader(train_set, batch_size = 64, num_workers=0)"
   ]
  },
  {
   "cell_type": "code",
   "execution_count": 3,
   "metadata": {},
   "outputs": [],
   "source": [
    "network = torchvision.models.resnet18(num_classes=10)"
   ]
  },
  {
   "cell_type": "code",
   "execution_count": 4,
   "metadata": {},
   "outputs": [
    {
     "name": "stdout",
     "output_type": "stream",
     "text": [
      "0 2.529468059539795\n",
      "10 2.2252535820007324\n",
      "20 2.101091146469116\n",
      "30 1.8177764415740967\n",
      "40 1.6227684020996094\n",
      "50 1.3932350873947144\n",
      "60 1.2563787698745728\n",
      "70 1.2264128923416138\n",
      "80 1.2030493021011353\n",
      "90 1.1565988063812256\n",
      "100 0.8635305166244507\n",
      "110 0.9128180146217346\n",
      "120 0.8375928997993469\n",
      "130 0.9328532218933105\n",
      "140 0.6182001233100891\n",
      "150 0.8579568266868591\n",
      "160 0.8275616765022278\n",
      "170 0.6090441942214966\n",
      "180 0.6547042727470398\n",
      "190 0.5676907300949097\n"
     ]
    }
   ],
   "source": [
    "losses = []\n",
    "iterator = iter(loader)\n",
    "network = network.to('cuda')\n",
    "optimizer = optim.SGD(network.parameters(), lr=0.001)\n",
    "for i in range(200): #range(len(loader)):\n",
    "    batch = next(iterator)\n",
    "    preds = network(batch[0].cuda())\n",
    "    loss = nn.functional.cross_entropy(preds, batch[1].cuda())\n",
    "\n",
    "    optimizer.zero_grad()\n",
    "    loss.backward()\n",
    "    optimizer.step()\n",
    "    losses.append(loss.item())\n",
    "    if i%10==0:\n",
    "        print(i,losses[-1])"
   ]
  },
  {
   "cell_type": "code",
   "execution_count": 5,
   "metadata": {},
   "outputs": [
    {
     "data": {
      "text/plain": [
       "[<matplotlib.lines.Line2D at 0x1ea2a5874c8>]"
      ]
     },
     "execution_count": 5,
     "metadata": {},
     "output_type": "execute_result"
    },
    {
     "data": {
      "image/png": "[encoded data removed]",
      "text/plain": [
       "<Figure size 432x288 with 1 Axes>"
      ]
     },
     "metadata": {
      "needs_background": "light"
     },
     "output_type": "display_data"
    }
   ],
   "source": [
    "plt.plot(losses)"
   ]
  },
  {
   "cell_type": "markdown",
   "metadata": {},
   "source": [
    "## Assignment 1-3: Data handling"
   ]
  },
  {
   "source": [
    "### Task 1:"
   ],
   "cell_type": "code",
   "metadata": {},
   "execution_count": 2,
   "outputs": []
  },
  {
   "cell_type": "code",
   "execution_count": 33,
   "metadata": {},
   "outputs": [],
   "source": [
    "class wrappedMinistDataset:\n",
    "    \n",
    "    def __init__(self, root, train, download, transform):\n",
    "        self.mnistDataset = torchvision.datasets.MNIST(\n",
    "                                root = root,\n",
    "                                train = train,\n",
    "                                download = download,\n",
    "                                transform = transform\n",
    "                            )\n",
    "        \n",
    "    def __getitem__(self, index):\n",
    "        img, label = self.mnistDataset.__getitem__(index)\n",
    "        return {\"img\": img, \"class\": label}\n",
    "    \n",
    "    def __len__(self):\n",
    "        return self.mnistDataset.__len__()\n",
    "\n",
    "class modelRes18(nn.Module):\n",
    "    def __init__(self, num_classes=10):\n",
    "        super(modelRes18, self).__init__()\n",
    "        self.backbone = torchvision.models.resnet18(num_classes=num_classes)\n",
    "    \n",
    "    def forward(self, input_dict):\n",
    "        tensor = input_dict[\"img\"].cuda()\n",
    "        preds = self.backbone(tensor)\n",
    "        return {\"class\": preds}\n",
    "\n",
    "def train_process(model, train_set):\n",
    "    loader = torch.utils.data.DataLoader(train_set, batch_size = 64, num_workers=0)\n",
    "    iterator = iter(loader)\n",
    "    losses = []\n",
    "    optimizer = optim.SGD(model.parameters(), lr=0.001)\n",
    "    for i in range(200): #range(len(loader)):\n",
    "        batch = next(iterator)\n",
    "        preds = model(batch)\n",
    "        loss = nn.functional.cross_entropy(preds[\"class\"], batch[\"class\"].cuda())\n",
    "\n",
    "        optimizer.zero_grad()\n",
    "        loss.backward()\n",
    "        optimizer.step()\n",
    "        losses.append(loss.item())\n",
    "        if i%10==0:\n",
    "            print(i,losses[-1])\n",
    "    plt.plot(losses)"
   ]
  },
  {
   "cell_type": "code",
   "execution_count": 34,
   "metadata": {},
   "outputs": [
    {
     "name": "stdout",
     "output_type": "stream",
     "text": [
      "0 2.488495111465454\n",
      "10 2.2519888877868652\n",
      "20 2.025195598602295\n",
      "30 1.6212637424468994\n",
      "40 1.6183890104293823\n",
      "50 1.3491549491882324\n",
      "60 1.1200385093688965\n",
      "70 1.1216919422149658\n",
      "80 1.2122421264648438\n",
      "90 1.0272216796875\n",
      "100 0.8914848566055298\n",
      "110 0.8383792042732239\n",
      "120 0.8813555240631104\n",
      "130 0.7524157166481018\n",
      "140 0.605955958366394\n",
      "150 0.8334943056106567\n",
      "160 0.8104377388954163\n",
      "170 0.5289085507392883\n",
      "180 0.6766757965087891\n",
      "190 0.5963340401649475\n"
     ]
    },
    {
     "data": {
      "image/png": "[encoded data removed]",
      "text/plain": [
       "<Figure size 432x288 with 1 Axes>"
      ]
     },
     "metadata": {
      "needs_background": "light"
     },
     "output_type": "display_data"
    }
   ],
   "source": [
    "train_set = wrappedMinistDataset(\n",
    "    root = './DatasetMNIST',\n",
    "    train = True,\n",
    "    download = False ,\n",
    "    transform = transforms.Compose([\n",
    "        transforms.ToTensor(),\n",
    "        gray_to_color,\n",
    "    ])\n",
    ")\n",
    "model = modelRes18(num_classes=10)\n",
    "model = model.to(\"cuda\")\n",
    "train_process(model, train_set)"
   ]
  },
  {
   "cell_type": "code",
   "execution_count": null,
   "metadata": {},
   "outputs": [],
   "source": []
  }
 ],
 "metadata": {
  "kernelspec": {
   "display_name": "Python 3",
   "language": "python",
   "name": "python3"
  },
  "language_info": {
   "codemirror_mode": {
    "name": "ipython",
    "version": 3
   },
   "file_extension": ".py",
   "mimetype": "text/x-python",
   "name": "python",
   "nbconvert_exporter": "python",
   "pygments_lexer": "ipython3",
   "version": "3.7.9-final"
  }
 },
 "nbformat": 4,
 "nbformat_minor": 4
}